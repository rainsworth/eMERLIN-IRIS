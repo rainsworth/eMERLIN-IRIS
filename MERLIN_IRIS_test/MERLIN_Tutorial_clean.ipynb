{
 "cells": [
  {
   "cell_type": "markdown",
   "metadata": {},
   "source": [
    "MERLIN tutorial following http://www.black-hole.eu/index.php/schools-workshops-and-conferences/2nd-school-on-multiwavelength-astronomy/course-materials/164-merlin-data\n",
    "\n",
    "\n",
    "## Overview\n",
    "\n",
    "This tutorial describes the data reduction for MERLIN 5-GHz radio continuum observations of the radio galaxy 3C277.1. For more information see www.merlin.ac.uk.\n",
    "\n",
    "These data were taken using 6 antennas, Ca (32 m) and Mk Ta Da Kn De, all 25 m. Their sensitivities vary, with De being by far the least efficient at this frequency. The array contains baselines up to 217 km and a usable bandwidth of 13 MHz which has been combined in one channel, hence the data volumne is small and rapid to process (the e-MERLIN upgrade will provide 2 GHz bandwidth). All antennas are alt-az. All four polarizations (RR RR LR RL) are present. Antenna positions are geocentric, terrestrial E, N positive.\n",
    "\n",
    "The data can be downloaded from 3C277.1.MULTTB which is a multi-source file containing:\n",
    "\n",
    "   - 3C277.1 (target)\n",
    "   - 1300+580 (phase-reference source and polarization leakage calibrator)\n",
    "   - 3C286 (primary flux scale calibrator and polarization angle calibrator)\n",
    "   - OQ208 (point source flux scale calibrator)\n",
    "\n",
    "Two flux scale calibrators are used because sources like 3C286 with stable, well-known amplitudes (and in this case polarization) are usually extended over several arcsec or more and hence are heavily resolved by MERLIN. On the other hand, point-like, bright sources like OQ208 are usually variable.\n",
    "\n",
    " \n",
    "Information: If you want to short-circuit any of the steps, or compare your data (see if you can do better!), 3C277.1.FITS is a multi-source file containing target and calibration sources which has already been (mostly) edited. 3C277.1C.SPLIT contains the fully-edited target with all calibration from calibration sources applied, ready for imaging and self-calibration. 3C277.1.CAL.SPLIT is also fully self-calibrated and 3C277.1.FITSIMAGE is the final image in full polarization. These can be loaded into CASA using importuvfits for the first 3 files and importfits for the image.\n",
    "\n",
    "The script below covers:\n",
    "\n",
    "   - Loading and inspecting data\n",
    "   - Editing\n",
    "   - Initial phase-calibration of calibration sources\n",
    "   - Setting the flux scale\n",
    "   - Time-dependent amplitude calibration of calibration sources\n",
    "   - Polarization leakage and angle calibration\n",
    "   - Target imaging and self-calibration\n",
    "   - Imaging in polarization\n",
    "   - Image measurements "
   ]
  },
  {
   "cell_type": "code",
   "execution_count": null,
   "metadata": {},
   "outputs": [],
   "source": [
    "import os"
   ]
  },
  {
   "cell_type": "code",
   "execution_count": null,
   "metadata": {},
   "outputs": [],
   "source": [
    "casa['build']['version']"
   ]
  },
  {
   "cell_type": "markdown",
   "metadata": {},
   "source": [
    "## Import, inspect and flag the data\n",
    "\n",
    "This assumes that all data are in the present working directory; if not, use the path in front of the fitsfile name.\n",
    "\n",
    "Start CASA and set variables for convenience. Load the fits data using importuvfits and list the contents using listobs.  "
   ]
  },
  {
   "cell_type": "code",
   "execution_count": null,
   "metadata": {},
   "outputs": [],
   "source": [
    "prefix = '3C277.1C'\n",
    "msfile = prefix + '.ms'"
   ]
  },
  {
   "cell_type": "code",
   "execution_count": null,
   "metadata": {},
   "outputs": [],
   "source": [
    "default(importuvfits)\n",
    "importuvfits(fitsfile = \"3C277.1.MULTTB\",\n",
    "    vis = msfile)"
   ]
  },
  {
   "cell_type": "code",
   "execution_count": null,
   "metadata": {},
   "outputs": [],
   "source": [
    "default(listobs)\n",
    "listobs(vis = msfile)"
   ]
  },
  {
   "cell_type": "markdown",
   "metadata": {},
   "source": [
    "Plot amplitude as a function of uvdistance to check that the phase reference source is a point. "
   ]
  },
  {
   "cell_type": "code",
   "execution_count": null,
   "metadata": {},
   "outputs": [],
   "source": [
    "default(plotms)\n",
    "plotms(vis = msfile, \n",
    "    xaxis = 'uvdist', \n",
    "    yaxis = 'amp',\n",
    "    field = '1300+580', \n",
    "    correlation = 'RR,LL', \n",
    "    coloraxis = 'corr',\n",
    "    plotfile = '1300+580_amp_uvdist.png',\n",
    "    expformat = 'png'\n",
    "    )"
   ]
  },
  {
   "cell_type": "markdown",
   "metadata": {},
   "source": [
    "The plot shows some bad data but no systematic trend with uv distance.\n",
    "\n",
    "Antenna '1' (Defford) is less sensitive than the others, so the data are noisier and we will flag by baseline (there are only 15). Inspect the phase reference source and flag the low points of amplitude and the sections where the phase cannot be followed. Use the Next button to iterate through the baselines. "
   ]
  },
  {
   "cell_type": "code",
   "execution_count": null,
   "metadata": {},
   "outputs": [],
   "source": [
    "plotms(vis = msfile,\n",
    "    gridrows = 5,\n",
    "    xaxis = 'time', \n",
    "    yaxis = 'amp',\n",
    "    field = '1300+580', \n",
    "    correlation = 'RR,LL', \n",
    "    coloraxis = 'corr',\n",
    "    iteraxis = 'baseline',\n",
    "    plotfile = '1300+580_amp_time.png',\n",
    "    expformat = 'png'\n",
    "    )"
   ]
  },
  {
   "cell_type": "code",
   "execution_count": null,
   "metadata": {},
   "outputs": [],
   "source": [
    "plotms(vis = msfile,\n",
    "    gridrows = 5,\n",
    "    xaxis = 'time', \n",
    "    yaxis = 'phase',\n",
    "    field = '1300+580', \n",
    "    correlation = 'RR,LL', \n",
    "    coloraxis = 'corr',\n",
    "    plotrange = [-1,-1,-180,180],\n",
    "    iteraxis = 'baseline',\n",
    "    plotfile = '1300+580_phase_uvdist.png',\n",
    "    expformat = 'png')"
   ]
  },
  {
   "cell_type": "markdown",
   "metadata": {},
   "source": [
    "The phase-reference source amplitudes and phases are shown above. The target is observed in the gaps between each scan.\n",
    "\n",
    "If long periods of data are flagged then there will be no solutions derived for calibration on shorter intervals and the target data in these intervals will normally be flagged also when the calibration is applied.\n",
    "\n",
    "Try a short cut on OQ208 to flag all the data when the source is very low (this takes a little longer, see progress in the logger). "
   ]
  },
  {
   "cell_type": "code",
   "execution_count": null,
   "metadata": {},
   "outputs": [],
   "source": [
    "plotms(vis = msfile,\n",
    "    gridrows = 5,\n",
    "    xaxis = 'time', \n",
    "    yaxis = 'phase',\n",
    "    field = 'OQ208', \n",
    "    correlation = 'RR,LL', \n",
    "    coloraxis = 'corr',\n",
    "    plotrange = [-1,-1,-180,180],\n",
    "    iteraxis = 'baseline',\n",
    "    extendflag = True,\n",
    "    plotfile = 'OQ208_phase_uvdist.png',\n",
    "    expformat = 'png')"
   ]
  },
  {
   "cell_type": "markdown",
   "metadata": {},
   "source": [
    "Some OQ208 baselines after flagging.\n",
    "\n",
    "3C286 is very resolved, but fortunately it does not seem to need any flagging. We will flag the target 3C277.1 after applying calibration. Back up with flagmanager - add a comment if you like! Use flagmanager any time later if you have done significant flagging. "
   ]
  },
  {
   "cell_type": "code",
   "execution_count": null,
   "metadata": {},
   "outputs": [],
   "source": [
    "default(flagmanager)\n",
    "flagmanager(vis = msfile,\n",
    "    mode = 'save',\n",
    "    versionname = msfile+'_calsource.flags')"
   ]
  },
  {
   "cell_type": "markdown",
   "metadata": {},
   "source": [
    " Plot the antenna distribution using plotants to chose a reference antenna with good data with many short baselines (easier to calibrate the phase).  Ignore messages about not finding the position of MERLIN. I suggest '5' as the refant. "
   ]
  },
  {
   "cell_type": "code",
   "execution_count": null,
   "metadata": {},
   "outputs": [],
   "source": [
    "plotants(vis = msfile,\n",
    "    figfile = prefix+'_plotants.png')\n",
    "clearstat()"
   ]
  },
  {
   "cell_type": "markdown",
   "metadata": {},
   "source": [
    "## Setting the flux scale\n",
    "\n",
    "3C286 is a standard flux and polarization calibration source, with properties tabulated by Baars (1977). It is somewhat resolved even on the shortest MERLIN baselines at 5 GHz, hence a sub-standard flux density used (96% of Baars). It has 11.2% fractional polarization at uvPA 66 deg, which we use to work out Q and U and then insert the values in the MODEL data column of the measurement set using setjy: "
   ]
  },
  {
   "cell_type": "code",
   "execution_count": null,
   "metadata": {},
   "outputs": [],
   "source": [
    "ipol = 7.073\n",
    "qpol = 0.112*ipol*cos(66*pi/180.0)\n",
    "upol = 0.112*ipol*sin(66*pi/180.0)\n",
    "\n",
    "default(setjy)\n",
    "setjy(vis = msfile,\n",
    "    field = '3C286',\n",
    "    standard = 'manual',\n",
    "    fluxdensity = [ipol,qpol,upol,0.0])"
   ]
  },
  {
   "cell_type": "markdown",
   "metadata": {},
   "source": [
    "In order to get enough signal to noise for accurate amplitude solutions we need to average over a few minutes, but the phase changes more rapidly on the long MERLIN baselines. A lower signal to noise is adequate for phase solutions so we solve for phase first with a short solution interval (typically 0.5 min) before deriving amplitude corrections. Both types of calibration are derived using gaincal. "
   ]
  },
  {
   "cell_type": "code",
   "execution_count": null,
   "metadata": {},
   "outputs": [],
   "source": [
    "default(gaincal)\n",
    "gaincal(vis = msfile,\n",
    "    caltable = prefix+'_cals.phcal',\n",
    "    field = '3C286,OQ208,1300+580',    # No spaces!\n",
    "    solint = '0.5min',\n",
    "    refant = '5',    # pick antenna with good data near array centre \n",
    "    calmode = 'p',\n",
    "    minsnr = 3.0,\n",
    "    minblperant = 3)"
   ]
  },
  {
   "cell_type": "markdown",
   "metadata": {},
   "source": [
    " Check the logger and plot the solutions: "
   ]
  },
  {
   "cell_type": "code",
   "execution_count": null,
   "metadata": {},
   "outputs": [],
   "source": [
    "default(plotcal)\n",
    "plotcal(caltable = prefix+'_cals.phcal',\n",
    "    field = '1300+580',\n",
    "    subplot = 611,\n",
    "    iteration = 'antenna',\n",
    "    xaxis ='time',\n",
    "    yaxis ='phase',\n",
    "    plotrange = [-1, -1, -180, 180],\n",
    "    figfile = prefix+'_cals.phcal.png')"
   ]
  },
  {
   "cell_type": "markdown",
   "metadata": {},
   "source": [
    "Phase reference source phase solutions (the range is [-180,+180] deg)\n",
    "\n",
    "Check the solutions for the other calibration sources. Even where the phase solutions are going round quite fast, they should not be random. 3C286 is heavily resolved on the longer baselines so we derive amplitude solutions for it and OQ208 on short baselines only, applying the phase solutions. minsnr=-1 is a fix to allow solutions to be passed on only 3 baselines. "
   ]
  },
  {
   "cell_type": "code",
   "execution_count": null,
   "metadata": {},
   "outputs": [],
   "source": [
    "gaincal(vis = msfile,\n",
    "    caltable = prefix+'_cals.a1cal',\n",
    "    field = '3C286,OQ208',    # No spaces!\n",
    "    antenna = '4~6&4~6',\n",
    "    solint = '2min',\n",
    "    refant = '5',    # pick antenna with good data near array centre \n",
    "    calmode = 'ap',\n",
    "    minsnr = -1,\n",
    "    minblperant = 2,\n",
    "    gaintable = prefix+'_cals.phcal')"
   ]
  },
  {
   "cell_type": "markdown",
   "metadata": {},
   "source": [
    " Check the solutions, which should be within a few percent of unity. "
   ]
  },
  {
   "cell_type": "code",
   "execution_count": null,
   "metadata": {},
   "outputs": [],
   "source": [
    "default(plotcal)\n",
    "plotcal(caltable = prefix+'_cals.a1cal',\n",
    "    field = '3C286',\n",
    "    antenna = '4,5,6',\n",
    "    subplot = 311,\n",
    "    iteration='antenna',\n",
    "    xaxis='time',\n",
    "    yaxis='amp',\n",
    "    plotrange=[-1, -1, -1, -1],\n",
    "    figfile=prefix+'_3C286_cals.a1cal.png')"
   ]
  },
  {
   "cell_type": "markdown",
   "metadata": {},
   "source": [
    "Also check OQ208 - this will have a different mean because there is not yet a proper model. Flag any solutions with a large scatter. "
   ]
  },
  {
   "cell_type": "code",
   "execution_count": null,
   "metadata": {},
   "outputs": [],
   "source": [
    "plotcal(caltable = prefix+'_cals.a1cal',\n",
    "    field = 'OQ208',\n",
    "    antenna = '4,5,6',\n",
    "    subplot = 311,\n",
    "    iteration='antenna',\n",
    "    xaxis='time',\n",
    "    yaxis='amp',\n",
    "    plotrange=[-1, -1, -1, -1],\n",
    "    figfile=prefix+'_OQ208_cals.a1cal.png')"
   ]
  },
  {
   "cell_type": "markdown",
   "metadata": {},
   "source": [
    "fluxscale is used to compare the solutions for OQ208 with those of 3C286 to find the flux density of the former. "
   ]
  },
  {
   "cell_type": "code",
   "execution_count": null,
   "metadata": {},
   "outputs": [],
   "source": [
    "default(fluxscale)\n",
    "fluxscale(vis = msfile,\n",
    "    caltable = prefix+'_cals.a1cal',\n",
    "    fluxtable = prefix+'_OQ208.flux',\n",
    "    reference = '3C286',\n",
    "    transfer = 'OQ208')"
   ]
  },
  {
   "cell_type": "markdown",
   "metadata": {},
   "source": [
    "Note the OQ208 flux density in the logger; the scatter should be less than 1%. I got\n",
    "\n",
    "Flux density for OQ208 in SpW=0 is: 2.3099 +/- 0.00530734 (SNR = 435.226, nAnt= 3) \n",
    "\n",
    "The fluxtable will contain the proper scaling, but since we have only used a subset of antennas we have to set the flux density of OQ208 (insert your value below) and repeat the amplitude calibration using all antennas:\n",
    "\n"
   ]
  },
  {
   "cell_type": "code",
   "execution_count": null,
   "metadata": {},
   "outputs": [],
   "source": [
    "default(setjy)\n",
    "setjy(vis = msfile,\n",
    "    field = 'OQ208',\n",
    "    standard = 'manual',\n",
    "    fluxdensity = [2.31,0])"
   ]
  },
  {
   "cell_type": "markdown",
   "metadata": {},
   "source": [
    " Use this to find the flux density of the phase reference source on all baselines "
   ]
  },
  {
   "cell_type": "code",
   "execution_count": null,
   "metadata": {},
   "outputs": [],
   "source": [
    "gaincal(vis = msfile,\n",
    "    caltable = prefix+'_cals.a2cal',\n",
    "    field = 'OQ208,1300+580',\n",
    "    antenna = '',\n",
    "    solint = '2min',\n",
    "    refant = '5',\n",
    "    calmode = 'ap',\n",
    "    minsnr = 3,\n",
    "    minblperant = 4,\n",
    "    gaintable = prefix+'_cals.phcal',\n",
    "    selectdata = False)"
   ]
  },
  {
   "cell_type": "markdown",
   "metadata": {},
   "source": [
    " Use plotcal to check the solutions (see previously); assuming that they are OK use fluxscale: "
   ]
  },
  {
   "cell_type": "code",
   "execution_count": null,
   "metadata": {},
   "outputs": [],
   "source": [
    "plotcal(caltable = prefix+'_cals.a2cal',\n",
    "    field = '1300+580',\n",
    "    antenna = '4,5,6',\n",
    "    subplot = 311,\n",
    "    iteration='antenna',\n",
    "    xaxis='time',\n",
    "    yaxis='amp',\n",
    "    plotrange=[-1, -1, -1, -1],\n",
    "    figfile=prefix+'_1300+580_cals.a2cal.png')"
   ]
  },
  {
   "cell_type": "code",
   "execution_count": null,
   "metadata": {},
   "outputs": [],
   "source": [
    "fluxscale(vis = msfile,\n",
    "    caltable = prefix+'_cals.a2cal',\n",
    "    fluxtable = prefix+'_1300+580.flux',\n",
    "    reference = 'OQ208',\n",
    "    transfer = '1300+580')"
   ]
  },
  {
   "cell_type": "markdown",
   "metadata": {},
   "source": [
    "Note the flux density of 1300+580 from the logger and set this. This is not strictly necessary as you could simply use the rescaled fluxtable, but it makes accounting easier in later calibration. I got\n",
    "\n",
    "Flux density for 1300+580 in SpW=0 is: 0.425989 +/- 0.000969224 (SNR = 439.515, nAnt= 6)"
   ]
  },
  {
   "cell_type": "code",
   "execution_count": null,
   "metadata": {},
   "outputs": [],
   "source": [
    "setjy(vis = msfile,\n",
    "    field = '1300+580',\n",
    "    standard = 'manual',\n",
    "    fluxdensity = [0.426,0])"
   ]
  },
  {
   "cell_type": "markdown",
   "metadata": {},
   "source": [
    "## Phase reference source solutions\n",
    "\n",
    "prefix+'_cals.phcal' (i.e. 3C277.1C_cals.phcal) contains phase-only solutions for all the calibration sources including the phase reference source. Make a calibration table for the phase reference source with the amplitude gains correctly scaled with respect to the derived flux density. "
   ]
  },
  {
   "cell_type": "code",
   "execution_count": null,
   "metadata": {},
   "outputs": [],
   "source": [
    "gaincal(vis = msfile,\n",
    "    caltable = prefix+'_cals.acal',\n",
    "    field = '1300+580',    # No spaces!\n",
    "    antenna = '',\n",
    "    solint = '2min',\n",
    "    refant = '5',    # pick antenna with good data near array centre \n",
    "    calmode = 'ap',\n",
    "    minsnr = 3,\n",
    "    minblperant = 4,\n",
    "    gaintable = prefix+'_cals.phcal',\n",
    "    selectdata = False)"
   ]
  },
  {
   "cell_type": "markdown",
   "metadata": {},
   "source": [
    "Check in plotcal - the amplitude gains should all be close to unity and the phase solutions should be small since we applied the initial phase calibration table. Note that, unlike AIPS, CASA uses the inverse of the gain correction factors. For example, the points which looked low on antenna 6 in the raw amplitudes, also have low amplitude gains correction factors. "
   ]
  },
  {
   "cell_type": "code",
   "execution_count": null,
   "metadata": {},
   "outputs": [],
   "source": [
    "plotcal(caltable = prefix+'_cals.acal',\n",
    "    field = '1300+580',\n",
    "    antenna = '',\n",
    "    subplot = 611,\n",
    "    iteration ='antenna',\n",
    "    xaxis = 'time',\n",
    "    yaxis = 'amp',\n",
    "    plotrange = [-1, -1, 0.5, 1.5],\n",
    "    figfile = prefix+'_1300+580_cals.acal.png')"
   ]
  },
  {
   "cell_type": "markdown",
   "metadata": {},
   "source": [
    "## Polarization calibration\n",
    "\n",
    "The phase reference source was observed over a wide hour angle range and it is point-like. We can use it to solve simultaneously for its intrinsic polarization and for leakage between the receiver feeds in orthogonal polarizations, using polcal. The parallactic angle correction (to allow for the rotation of alt-az feeds during tracking) is also derived. preavg defines the averaging intervals over which the parallactic angle correction is applied. "
   ]
  },
  {
   "cell_type": "code",
   "execution_count": null,
   "metadata": {},
   "outputs": [],
   "source": [
    "default(polcal)\n",
    "polcal(vis = msfile,\n",
    "    caltable = prefix+'_phref.dcal',\n",
    "    field = '1300+580',\n",
    "    selectdata = False,\n",
    "    solint = 'inf',   \n",
    "    combine = 'scan',\n",
    "    preavg = 120.0,  \n",
    "    refant = '5',    \n",
    "    poltype = 'D+QU',\n",
    "    minsnr = 3.0,\n",
    "    minblperant = 3,\n",
    "    gaintable = [prefix+'_cals.phcal', prefix+'_cals.acal'])"
   ]
  },
  {
   "cell_type": "markdown",
   "metadata": {},
   "source": [
    "Inspect the solutions in the logger or use\n",
    "\n",
    "```\n",
    "caltable=prefix+'_phref.dcal'\n",
    "listcal() \n",
    "```\n",
    "\n",
    "The logger shows\n",
    "\n",
    "polcal\tFractional polarization solution for 1300+580 (spw = 0): : Q = 0.0343205, U = -0.01451  (P = 0.0372617, X = -11.4588 deg)\n",
    "...\n",
    "polcal\t  Ant=1: R: A=0.04847    P=-19.26   ; L: A=0.04227    P=-90.43  \n",
    "polcal\t  Ant=2: R: A=0.1035     P=-151.6   ; L: A=0.01853    P=-87.4   \n",
    "polcal\t  Ant=3: R: A=0.04337    P=-47.11   ; L: A=0.04684    P=-92.62  \n",
    "polcal\t  Ant=4: R: A=0.026      P=24.81    ; L: A=0.03879    P=-135.4  \n",
    "polcal\t  Ant=5: R: A=0          P=0        ; L: A=0.02193    P=-67.9   \n",
    "polcal\t  Ant=6: R: A=0.04473    P=-121.9   ; L: A=0.01694    P=51.1   \n",
    "\n",
    "The source polarization is expected to be a few percent; I got P/I = 0.0373/0.426 (using the value of P above and the total flux density I from fluxscale). All amplitude (A) solutions should be less than 10% At present, the origin of phase, and hence the polarization angle, is arbitrary. This is corrected using the known polarization angle of 3C286. We apply the phase and polarization leakage solutions and use the model of its I Q U and V previously set. We rely on the amplitude being stable during the short (c. half an hour) observation, to avoid needing to use a model for amplitude calibration, since the polarization is dominated by the compact core.\n",
    "\n"
   ]
  },
  {
   "cell_type": "code",
   "execution_count": null,
   "metadata": {},
   "outputs": [],
   "source": [
    "default(polcal)\n",
    "polcal(vis = msfile,\n",
    "    caltable = prefix+'_3C286.pacal',\n",
    "    field = '3C286',\n",
    "    selectdata = False,\n",
    "    solint = 'inf',     # entire 'combine' intervals = scan length, here.\n",
    "    combine = 'scan',\n",
    "    preavg = 120.0,  # interval at which to apply ||actic angle\n",
    "    refant = '5',    # pick antenna with good data near array centre           \n",
    "    gaintable = [prefix+'_cals.phcal', prefix+'_phref.dcal'],\n",
    "    poltype = 'Xf')\n",
    "\n",
    "# The tutorial says poltype = 'X' but I get an error and it won't solve.\n",
    "# Logger says Mean position angle offset solution for 3C286 (spw = 0) = -85.435 deg."
   ]
  },
  {
   "cell_type": "markdown",
   "metadata": {},
   "source": [
    "The polarization angle correction is reported in the logger.\n",
    "\n",
    "polcal Position angle offset solution for 3C286 (spw = 0) = 33.9224 deg. \n",
    "\n",
    "## Apply the calibration and prepare for imaging\n",
    "\n",
    "Apply the time-dependent phase and incremental phase plus amplitude solutions to the target and the phase-reference source using applycal. As the MERLIN antennas have different sensitivities we use calwt=False (so that data for the less sensitive antennas are not given too small a weight to be included properly in self-calibration). "
   ]
  },
  {
   "cell_type": "code",
   "execution_count": null,
   "metadata": {},
   "outputs": [],
   "source": [
    "default(applycal)\n",
    "applycal(vis = msfile,\n",
    "    gaintable = [prefix+'_cals.phcal', prefix+'_cals.acal', prefix+'_phref.dcal', prefix+'_3C286.pacal'],\n",
    "    field = '1300+580,3C277.1',\n",
    "    calwt = False,   \n",
    "    parang = True)"
   ]
  },
  {
   "cell_type": "markdown",
   "metadata": {},
   "source": [
    " No amplitude calibration table for 3C286: "
   ]
  },
  {
   "cell_type": "code",
   "execution_count": null,
   "metadata": {},
   "outputs": [],
   "source": [
    "applycal(vis = msfile,\n",
    "    gaintable = [prefix+'_cals.phcal',prefix+'_phref.dcal',prefix+'_3C286.pacal'],\n",
    "    field = '3C286',\n",
    "    calwt = False,   \n",
    "    parang = True)"
   ]
  },
  {
   "cell_type": "markdown",
   "metadata": {},
   "source": [
    " This fills the CORRECTED data column with visibilities multiplied by the various calibration factors. split out the target (further imaging and self-calibration are quicker and simpler using a single-source file): "
   ]
  },
  {
   "cell_type": "code",
   "execution_count": null,
   "metadata": {},
   "outputs": [],
   "source": [
    "default(split)\n",
    "split(vis = msfile,\n",
    "    datacolumn = 'corrected',\n",
    "    outputvis = '3C277.1C.split.ms',\n",
    "    field = '3C277.1')"
   ]
  },
  {
   "cell_type": "markdown",
   "metadata": {},
   "source": [
    " Inspect the calibrated 3C277.1 data. "
   ]
  },
  {
   "cell_type": "code",
   "execution_count": null,
   "metadata": {},
   "outputs": [],
   "source": [
    "default(plotms)\n",
    "plotms(vis = '3C277.1C.split.ms',\n",
    "    gridrows = 5,\n",
    "    xaxis = 'time',\n",
    "    yaxis = 'amp',\n",
    "    ydatacolumn = 'data',\n",
    "    correlation = 'RR,LL',\n",
    "    coloraxis = 'corr',\n",
    "    iteraxis = 'baseline',\n",
    "    field = '3C277.1',\n",
    "    plotfile = '3C277.1.split_amp_time.png',\n",
    "    expformat = 'png')"
   ]
  },
  {
   "cell_type": "code",
   "execution_count": null,
   "metadata": {},
   "outputs": [],
   "source": [
    "plotms(vis = '3C277.1C.split.ms',\n",
    "    gridrows = 5,\n",
    "    xaxis = 'time',\n",
    "    yaxis = 'phase',\n",
    "    ydatacolumn = 'data',\n",
    "    correlation = 'RR,LL',\n",
    "    coloraxis = 'corr',\n",
    "    iteraxis = 'baseline',\n",
    "    plotrange = [-1,-1,-180,180],\n",
    "    field = '3C277.1',\n",
    "    plotfile = '3C277.1.split_phase_time.png',\n",
    "    expformat = 'png')"
   ]
  },
  {
   "cell_type": "markdown",
   "metadata": {},
   "source": [
    "\n",
    "Where there are no solutions from the phase reference, the data are already flagged. It is quite hard to see bad data on the long baselines so you might not be able to flag these but any obviously isolated points can be flagged. Inspect phase also. After later self-calibration, you might have another look and edit remaining isolated points, use the zoom if necessary.\n",
    "\n",
    "## Self calibration and imaging of the target\n",
    "\n",
    "Image the target using clean. The longest baseline is 217 km and the wavelength is 6 cm. Use this to estimate the interferometer resolution and hence a suitable pixel size to give at least 3 pixels across the beam. A minimum image size of at least 512 pixels is needed for for adequate deconvolution of the rather extended dirty beam produced by the sparse MERLIN array. psfmode='hogbom' provides a large beam patch for deconvolving extended sidelobes. Note that if interactive=True you have to set box(es) yourself and double click in them to activate. Don't clean too far before self-calibration. Ignor warnings about not finding position of MERLIN "
   ]
  },
  {
   "cell_type": "code",
   "execution_count": null,
   "metadata": {},
   "outputs": [],
   "source": [
    "default(clean)\n",
    "clean(vis = '3C277.1C.split.ms',\n",
    "    field = '3C277.1',\n",
    "    imagename = '3C277.1C_clean1',\n",
    "    cell = ['0.015arcsec', '0.015arcsec'],\n",
    "    imsize = [512,512],\n",
    "    psfmode = 'hogbom',\n",
    "    imagermode = 'csclean',\n",
    "    cyclefactor = 4,\n",
    "    stokes = 'I',\n",
    "#    interactive = True,\n",
    "    niter = 1000,\n",
    "    gain = 0.05,\n",
    "    mask = '')"
   ]
  },
  {
   "cell_type": "markdown",
   "metadata": {},
   "source": [
    "You can save your boxes for future use. In the viewer menu, select\n",
    "\n",
    "```Tools > Region in File ```\n",
    "\n",
    "Enter\n",
    "\n",
    "```Stokes IQUV```\n",
    "\n",
    "Then draw your boxes (you cannot save boxes drawn prior to openning the Region in File dialogue). Click on Save and enter a name, e.g. clean1.rgn. To save the clean inputs for future, use saveinputs\n",
    "\n",
    "```saveinputs ('clean', '3C277.1.clean1.saved')```\n",
    "\n",
    "Check progress in the logger. In this instance we have let CASA fit the natural synthesised beam, the size is reported in the logger (and also recorded in the image header). The Clean model is left in the MS in the MODEL_DATA column. Use the viewer to load 3C277.1C_clean1.image as a raster map and use the 'data display options' to tweak it. You can access these via the spanner icon or the Data menu option Ajust. "
   ]
  },
  {
   "cell_type": "code",
   "execution_count": null,
   "metadata": {},
   "outputs": [],
   "source": [
    "viewer('3C277.1C_clean1.image')"
   ]
  },
  {
   "cell_type": "markdown",
   "metadata": {},
   "source": [
    "There are several ways to measure the noise and the peak. If you draw a box and double-click, the rms etc. will be displayed. To set the measurement in a variable (here called rms_target) use imstat, setting the limits to avoid the image. "
   ]
  },
  {
   "cell_type": "code",
   "execution_count": null,
   "metadata": {},
   "outputs": [],
   "source": [
    "default(imstat)\n",
    "noise_target = imstat(imagename = '3C277.1C_clean1.image',\n",
    "                box = '20,20,492,120',\n",
    "                stokes = 'I')\n",
    "\n",
    "rms_target = noise_target['rms'][0]\n",
    "\n",
    "print rms_target\n",
    "# 0.000896490093248"
   ]
  },
  {
   "cell_type": "markdown",
   "metadata": {},
   "source": [
    "I got 0.00079 Jy. Use the menu Data>Load, select 3C277.1C_clean1.image as a contour image and use the 'data display options' to set the base contour level to the rms_noise and the relative contour levels to [-3,3,6,12,24,48,96]. \n",
    "\n",
    "First image of the target, contours at [-0.0025,0.0025, 0.005, 0.01, 0.02, 0.04, 0.08] Jy/beam\n",
    "\n",
    "You can also overlay the Clean Components (3C277.1C_clean1.model) as a Marker Map using the Data > Open menu (set the x and y increments to 1.) Self-calibrate with gaincal using the model (the Fourier transform of the clean components) left in the MS. It is OK to selfcal in I if V is zero, which is usually the case at all but the highest resolution for extragalactic cm-wave radio continuum. "
   ]
  },
  {
   "cell_type": "code",
   "execution_count": null,
   "metadata": {},
   "outputs": [],
   "source": [
    "default(gaincal)\n",
    "gaincal(vis = '3C277.1C.split.ms',\n",
    "    caltable = prefix+'_self1.phcal',\n",
    "    field = '3C277.1',\n",
    "    refant = '5',\n",
    "    minblperant = 3,\n",
    "    minsnr = 1,\n",
    "    calmode = 'p',\n",
    "    solint = '2min',\n",
    "    parang = True)"
   ]
  },
  {
   "cell_type": "code",
   "execution_count": null,
   "metadata": {},
   "outputs": [],
   "source": [
    "plotcal(caltable=prefix+'_self1.phcal',\n",
    "    xaxis='time',\n",
    "    yaxis='phase',\n",
    "    subplot=611,\n",
    "    iteration='antenna',\n",
    "    plotrange = [-1, -1, -180, 180],\n",
    "    figfile = '3C277.1C_self1.phcal.png')"
   ]
  },
  {
   "cell_type": "markdown",
   "metadata": {},
   "source": [
    " You expect to see just residual solutions; if they look OK use applycal. "
   ]
  },
  {
   "cell_type": "code",
   "execution_count": null,
   "metadata": {},
   "outputs": [],
   "source": [
    "default(applycal)\n",
    "applycal(vis = '3C277.1C.split.ms',\n",
    "    gaintable = prefix+'_self1.phcal',\n",
    "    field = '3C277.1',\n",
    "    parang = True, \n",
    "    calwt = False)"
   ]
  },
  {
   "cell_type": "markdown",
   "metadata": {},
   "source": [
    "Clean, set threshold to the measured noise, rms_target Restore the saved inputs (3C277.1.clean1.saved is just a text file, you can view or edit it) using the python command execfile. If you saved your boxes give the file name as the argument of mask. You can change these interactively in the clean viewer. Restore the previous, saved clean inputs "
   ]
  },
  {
   "cell_type": "code",
   "execution_count": null,
   "metadata": {},
   "outputs": [],
   "source": [
    "#execfile('3C277.1.clean1.saved')"
   ]
  },
  {
   "cell_type": "markdown",
   "metadata": {},
   "source": [
    "Inspect and adapt the inputs, using the previous noise level as the minimum clean flux. You should stop cleaning when the minimum clean components have sidelobes fainter than the noise. You can calculate the stopping criteria more accurately by inspecting the sidelobe ratio of the dirty beam and comparing that with the expected final noise level. "
   ]
  },
  {
   "cell_type": "code",
   "execution_count": null,
   "metadata": {},
   "outputs": [],
   "source": [
    "clean(vis = '3C277.1C.split.ms',\n",
    "    field = '3C277.1',\n",
    "    imagename = '3C277.1C_clean2',\n",
    "    cell = ['0.015arcsec', '0.015arcsec'],\n",
    "    imsize = [512,512],\n",
    "    psfmode = 'hogbom',\n",
    "    imagermode = 'csclean',\n",
    "    cyclefactor = 4,\n",
    "    stokes = 'I',\n",
    "#    interactive = True,\n",
    "    niter = 2000,\n",
    "    gain = 0.05,\n",
    "    threshold=str(rms_target)+'Jy')\n",
    "#    mask = 'clean1.rgn')\n",
    "\n",
    "saveinputs ('clean', '3C277.1.clean2.saved')"
   ]
  },
  {
   "cell_type": "markdown",
   "metadata": {},
   "source": [
    " Make a new region mask if it needs improving. Inspect 3C277.1C_clean2.image as previously in the viewer and check that the noise has gone down. "
   ]
  },
  {
   "cell_type": "code",
   "execution_count": null,
   "metadata": {},
   "outputs": [],
   "source": [
    "viewer('3C277.1C_clean2.image')"
   ]
  },
  {
   "cell_type": "code",
   "execution_count": null,
   "metadata": {},
   "outputs": [],
   "source": [
    "default(imstat)\n",
    "noise_target = imstat(imagename='3C277.1C_clean2.image',\n",
    "                    box='20,20,492,120',\n",
    "                    stokes='I')\n",
    "\n",
    "rms_target = noise_target['rms'][0]\n",
    "\n",
    "print rms_target\n",
    "# 0.000279023422363"
   ]
  },
  {
   "cell_type": "markdown",
   "metadata": {},
   "source": [
    "In this example we go straight to amplitude self-calibration. If the previous phase solutions showed large changes you might do more phase-only calibration first to improve the model, perhaps trying shorter solution intervals and different boxes. Gaincal only works from the original, not corrected data so apply the previous phase self-cal solutions as the gaintable in gaincal. "
   ]
  },
  {
   "cell_type": "code",
   "execution_count": null,
   "metadata": {},
   "outputs": [],
   "source": [
    "default(gaincal)\n",
    "gaincal(vis = '3C277.1C.split.ms',\n",
    "    caltable = prefix+'_self2.ampcal',\n",
    "    field = '3C277.1',\n",
    "    refant = '5',\n",
    "    minsnr = 1,\n",
    "    calmode = 'ap',\n",
    "    minblperant = 4,\n",
    "    solint = '3min',\n",
    "    gaintable = prefix+'_self1.phcal',\n",
    "    parang =  True)"
   ]
  },
  {
   "cell_type": "markdown",
   "metadata": {},
   "source": [
    " Inspect the solutions. The amplitude corrections should be within a few percent of unity. Plot the phase corrections as well, these should be very small residuals. "
   ]
  },
  {
   "cell_type": "code",
   "execution_count": null,
   "metadata": {},
   "outputs": [],
   "source": [
    "plotcal(caltable=prefix+'_self2.ampcal',\n",
    "    xaxis='time',\n",
    "    yaxis='amp',\n",
    "    subplot=611,\n",
    "    iteration='antenna',\n",
    "    plotrange = [-1, -1, 0.8, 1.2],\n",
    "    figfile = '3C277.1C_self2.ampcal.png')"
   ]
  },
  {
   "cell_type": "markdown",
   "metadata": {},
   "source": [
    " Apply both 'p' and 'ap' calibration tables with applycal "
   ]
  },
  {
   "cell_type": "code",
   "execution_count": null,
   "metadata": {},
   "outputs": [],
   "source": [
    "applycal(vis = '3C277.1C.split.ms',\n",
    "    gaintable = [prefix+'_self1.phcal', prefix+'_self2.ampcal'],\n",
    "    field = '3C277.1',\n",
    "    parang = True, \n",
    "    calwt = False)"
   ]
  },
  {
   "cell_type": "markdown",
   "metadata": {},
   "source": [
    " Finally, clean in full polarization. Remember that you can change the threshold or the number of iterations/cycles interactively. If you made a new file of saved clean boxes, update the name of the mask file. "
   ]
  },
  {
   "cell_type": "code",
   "execution_count": null,
   "metadata": {},
   "outputs": [],
   "source": [
    "# execfile('3C277.1.clean2.saved')\n",
    "\n",
    "clean(vis = '3C277.1C.split.ms',\n",
    "    field = '3C277.1',\n",
    "    imagename = '3C277.1C_clean3',\n",
    "    cell = ['0.015arcsec', '0.015arcsec'],\n",
    "    imsize = [512,512],\n",
    "    psfmode = 'hogbom',\n",
    "    imagermode = 'csclean',\n",
    "    cyclefactor = 4,\n",
    "    stokes='IQUV',\n",
    "#    interactive = True,\n",
    "    niter = 5000,\n",
    "    gain = 0.05,\n",
    "    threshold=str(rms_target)+'Jy')\n",
    "#    mask = 'clean1.rgn')\n",
    "\n",
    "saveinputs ('clean', '3C277.1.clean3.saved')"
   ]
  },
  {
   "cell_type": "markdown",
   "metadata": {},
   "source": [
    "You can use Display Panel options to view all 4 Stokes planes at once. In these settings, the mask is applied to all planes and imagermode='csclean' deconvolved them jointly, which is usually appropriate for small fractional polarization. View and check that the noise has gone down: "
   ]
  },
  {
   "cell_type": "code",
   "execution_count": null,
   "metadata": {},
   "outputs": [],
   "source": [
    "viewer('3C277.1C_clean3.image')"
   ]
  },
  {
   "cell_type": "code",
   "execution_count": null,
   "metadata": {},
   "outputs": [],
   "source": [
    "default(imstat)\n",
    "noise_target = imstat(imagename = '3C277.1C_clean3.image',\n",
    "                box = '20,20,492,120',\n",
    "                stokes = 'I')\n",
    "\n",
    "rms_target=noise_target['rms'][0]\n",
    "\n",
    "print rms_target\n",
    "# 0.000105255082105"
   ]
  },
  {
   "cell_type": "markdown",
   "metadata": {},
   "source": [
    "You can check the accuracy of your model by plotting the Fourier transform of the Clean components (in the MODEL data column of the MS) against the CORRECTED visibilities: "
   ]
  },
  {
   "cell_type": "code",
   "execution_count": null,
   "metadata": {},
   "outputs": [],
   "source": [
    "default(plotms)\n",
    "plotms(vis = '3C277.1C.split.ms',\n",
    "    xaxis = 'uvdist',\n",
    "    yaxis = 'amp',\n",
    "    ydatacolumn = 'corrected',\n",
    "    selectdata = True,\n",
    "    correlation = 'LL',\n",
    "    field = '3C277.1',\n",
    "    avgtime = '180', # 3 min, same as solution interval\n",
    "    #plotcolor = 'blue',\n",
    "    #overplot = True,\n",
    "    plotfile = '3C277.1.split_FTcc.png',\n",
    "    expformat = 'png')"
   ]
  },
  {
   "cell_type": "code",
   "execution_count": null,
   "metadata": {},
   "outputs": [],
   "source": [
    "plotms(vis = '3C277.1C.split.ms',\n",
    "    xaxis = 'uvdist',\n",
    "    yaxis = 'amp',\n",
    "    ydatacolumn = 'model',\n",
    "    selectdata = True,\n",
    "    correlation = 'LL',\n",
    "    field = '3C277.1',\n",
    "    avgtime = '180', # 3 min, same as solution interval\n",
    "    #plotcolor = 'red',\n",
    "    #overplot = True,\n",
    "    #plotfile = '3C277.1.split_FTcc.png',\n",
    "    expformat = 'png')\n",
    "    \n",
    "# This was originally done in plotxy but doesn't look like it works in plotms"
   ]
  },
  {
   "cell_type": "markdown",
   "metadata": {},
   "source": [
    "Target model (red) overplotted on the calibrated visibility data.\n",
    "\n",
    "Some scatter in the data is due to real structure below the CC cutoff and to unavoidable noise, which is worse on intermediate baselines because these include Defford, the least sensitive antenna at 5 GHz. If the model is a very poor fit, try more editing and/or self-calibration and/or change the clean inputs Split the total intensity Stokes I image out of final image using immath"
   ]
  },
  {
   "cell_type": "code",
   "execution_count": null,
   "metadata": {},
   "outputs": [],
   "source": [
    "default(immath)\n",
    "immath(imagename = '3C277.1C_clean3.image',\n",
    "    mode = 'evalexpr',\n",
    "    stokes = 'I',\n",
    "    outfile = '3C277.1C.icln',\n",
    "    expr = 'IM0')"
   ]
  },
  {
   "cell_type": "markdown",
   "metadata": {},
   "source": [
    " Use the toolkit to make a Q+iU image (needed to plot scaled polarization vectors) "
   ]
  },
  {
   "cell_type": "code",
   "execution_count": null,
   "metadata": {},
   "outputs": [],
   "source": [
    "# maybe skip this\n",
    "\n",
    "#potool = casac.homefinder.find_home_by_name('imagepolHome')\n",
    "#pho = potool.create()\n",
    "#pho.open('3C277.1C_clean3.image')\n",
    "#complexlinpolimage = '3C277.1C.cmplxlinpol'\n",
    "#pho.complexlinpol(complexlinpolimage)\n",
    "#pho.close()"
   ]
  },
  {
   "cell_type": "markdown",
   "metadata": {},
   "source": [
    " Estimate a suitable cutoff for plotting polarization e.g. "
   ]
  },
  {
   "cell_type": "code",
   "execution_count": null,
   "metadata": {},
   "outputs": [],
   "source": [
    "#print 10*rms_target"
   ]
  },
  {
   "cell_type": "markdown",
   "metadata": {},
   "source": [
    "and then use the menu Data>Load to enter\n",
    "\n",
    "'3C277.1C.cmplxlinpol'['3C277.1C.icln'> 0.0024] \n",
    "\n",
    "in the Load Data LEL expression field, as shown below (change 0.0024 to your value). (DON'T click on anything in the Name list). Click on Vector Map. \n",
    "\n",
    " How to display scaled polarization vectors from the Q+iU image with a cutoff at about 10-20 times the rms of the Stokes I image.\n",
    "\n",
    "Use Data Display options for the raster and vector images and try adding contours. Compare this with the image made before self-calibration - note that the 3 rms_noise level used as the contour base is now much lower. \n",
    "\n",
    "This plot uses x- and y-increments of 2, debiasing true, amplitude scale factor 2, vector color cyan and contours at: [-0.0004 0.0004 0.0008 0.0016 0.0032 0.0064 0.0128] Jy/beam\n",
    "\n",
    "If time, try to improve the image... More self-calibration, maybe editing, clean more slowly with smaller gain, careful boxing... You could also split out 3C286 and 1300+580 and image these in full polarization as above. There is probably no need for further self calibration of the calibration sources.\n",
    "Anita Richards 19 June 2010 "
   ]
  },
  {
   "cell_type": "code",
   "execution_count": null,
   "metadata": {},
   "outputs": [],
   "source": []
  },
  {
   "cell_type": "code",
   "execution_count": null,
   "metadata": {},
   "outputs": [],
   "source": []
  }
 ],
 "metadata": {
  "kernelspec": {
   "display_name": "Casa",
   "language": "casa",
   "name": "casapy"
  },
  "language_info": {
   "mimetype": "text/plain",
   "name": "Casa"
  }
 },
 "nbformat": 4,
 "nbformat_minor": 2
}
